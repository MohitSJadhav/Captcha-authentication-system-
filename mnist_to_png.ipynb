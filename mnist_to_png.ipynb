{
 "cells": [
  {
   "cell_type": "code",
   "execution_count": null,
   "metadata": {},
   "outputs": [],
   "source": [
    "import tensorflow as tf\n",
    "(x_train, y_train), (x_test, y_test) = tf.keras.datasets.mnist.load_data()"
   ]
  },
  {
   "cell_type": "code",
   "execution_count": null,
   "metadata": {},
   "outputs": [],
   "source": [
    "from sklearn.model_selection import train_test_split\n",
    "x = np.concatenate((x_train, x_test))\n",
    "y = np.concatenate((y_train, y_test))\n",
    "\n",
    "train_size = 0.1\n",
    "x_train, x_test, y_train, y_test = train_test_split(x, y, train_size=train_size)\n",
    "print(x_train.shape[0])\n",
    "print(y_train.shape)"
   ]
  },
  {
   "cell_type": "code",
   "execution_count": null,
   "metadata": {},
   "outputs": [],
   "source": [
    "#import matplotlib.pyplot as plt\n",
    "import os\n",
    "\n",
    "t = x_train.shape[0]\n",
    "DATADIR = \"test\"\n",
    "for i in range(5000,5050):\n",
    "#category = str(y_train[i])\n",
    "    #path = os.path.join(DATADIR, category)\n",
    "    plt.imshow(x_train[i], cmap='Greys')\n",
    "    plt.axis('off')\n",
    "    plt.savefig(DATADIR+\"/\"+str(i)+'.png', bbox_inches='tight', pad_inches=0,transparent = True)\n",
    "    print(\"i:\",i,end = \" \")\n",
    "\n",
    "    \n"
   ]
  },
  {
   "cell_type": "code",
   "execution_count": null,
   "metadata": {},
   "outputs": [],
   "source": []
  }
 ],
 "metadata": {
  "kernelspec": {
   "display_name": "Python 3",
   "language": "python",
   "name": "python3"
  },
  "language_info": {
   "codemirror_mode": {
    "name": "ipython",
    "version": 3
   },
   "file_extension": ".py",
   "mimetype": "text/x-python",
   "name": "python",
   "nbconvert_exporter": "python",
   "pygments_lexer": "ipython3",
   "version": "3.6.9"
  }
 },
 "nbformat": 4,
 "nbformat_minor": 4
}
